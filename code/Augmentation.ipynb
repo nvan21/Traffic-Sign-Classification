{
 "cells": [
  {
   "cell_type": "code",
   "execution_count": 1,
   "metadata": {
    "id": "cZ5YH8Y_MDBa"
   },
   "outputs": [],
   "source": [
    "import os\n",
    "from PIL import Image, ImageEnhance\n",
    "import numpy as np"
   ]
  },
  {
   "cell_type": "code",
   "execution_count": 2,
   "metadata": {
    "id": "k_aLat2tQN2T"
   },
   "outputs": [],
   "source": [
    "!pip install -q kaggle"
   ]
  },
  {
   "cell_type": "code",
   "execution_count": null,
   "metadata": {
    "colab": {
     "base_uri": "https://localhost:8080/"
    },
    "collapsed": true,
    "id": "ceaUcS5CQPLZ",
    "outputId": "010adc09-52c6-4c03-daac-e3ba863aed57"
   },
   "outputs": [],
   "source": [
    "# Download the dataset\n",
    "!kaggle datasets download -d meowmeowmeowmeowmeow/gtsrb-german-traffic-sign -p /work/flemingc/nvan21/projects/COMS_573_Project/Data"
   ]
  },
  {
   "cell_type": "code",
   "execution_count": null,
   "metadata": {},
   "outputs": [],
   "source": [
    "!unzip /work/flemingc/nvan21/projects/COMS_573_Project/Data/gtsrb-german-traffic-sign.zip -d /work/flemingc/nvan21/projects/COMS_573_Project/Data"
   ]
  },
  {
   "cell_type": "code",
   "execution_count": 7,
   "metadata": {
    "id": "TtiNhKGaTBaJ"
   },
   "outputs": [],
   "source": [
    "import random\n",
    "import matplotlib.pyplot as plt\n",
    "import matplotlib.image as mpimg"
   ]
  },
  {
   "cell_type": "code",
   "execution_count": 8,
   "metadata": {
    "id": "s2D_IiyPNchX"
   },
   "outputs": [],
   "source": [
    "from PIL import Image, ImageDraw"
   ]
  },
  {
   "cell_type": "code",
   "execution_count": 9,
   "metadata": {
    "id": "KTf_4kXcNs_9"
   },
   "outputs": [],
   "source": [
    "def add_black_squares(image, num_squares=7, square_size_range=(15, 70),):\n",
    "    \"\"\"\n",
    "    Adds black squares to the image to occlude parts of it, and resizes the image to a target size.\n",
    "    \n",
    "    Parameters:\n",
    "    - image: PIL Image object\n",
    "    - num_squares: Number of squares to add to the image\n",
    "    - square_size_range: Tuple (min_size, max_size) for random square sizes\n",
    "    - target_size: Target size for the image (width, height)\n",
    "    \n",
    "    Returns:\n",
    "    - Augmented PIL Image with black squares resized to the target size\n",
    "    \"\"\"\n",
    "\n",
    "    \n",
    "    width, height = image.size\n",
    "    size_ref=min(width, height)\n",
    "    small_square= int(size_ref/12)\n",
    "    big_square=int(size_ref/6)\n",
    "    if small_square ==0:\n",
    "        small_square+=1\n",
    "    if small_square == big_square:\n",
    "        big_square+=1\n",
    "\n",
    "    square_size_range=(small_square, big_square)\n",
    "    draw = ImageDraw.Draw(image)\n",
    "\n",
    "    for _ in range(num_squares):\n",
    "        # Randomly determine the size of the square\n",
    "        square_size = random.randint(square_size_range[0], square_size_range[1])\n",
    "\n",
    "        # Randomly determine the top-left corner of the square\n",
    "        top_left_x = random.randint(0, width - square_size)\n",
    "        top_left_y = random.randint(0, height - square_size)\n",
    "\n",
    "        # Define the bottom-right corner of the square\n",
    "        bottom_right_x = top_left_x + square_size\n",
    "        bottom_right_y = top_left_y + square_size\n",
    "\n",
    "        # Draw a black square\n",
    "        draw.rectangle([top_left_x, top_left_y, bottom_right_x, bottom_right_y], fill=\"black\")\n",
    "\n",
    "    return image"
   ]
  },
  {
   "cell_type": "code",
   "execution_count": 10,
   "metadata": {
    "id": "RcxEetffNwO9"
   },
   "outputs": [],
   "source": [
    "def augment_images(input_folder, output_folder, num_squares=7, square_size_range=(15, 70)):\n",
    "    \"\"\"\n",
    "    Augments all images in the input folder by adding black squares and saves them to the output folder.\n",
    "    \n",
    "    Loops through subfolders in input_folder (representing class directories) and augments images in each class.\n",
    "    \n",
    "    Parameters:\n",
    "    - input_folder: Path to the folder containing images to augment (with subfolders for each class)\n",
    "    - output_folder: Path to the folder where augmented images will be saved\n",
    "    - num_squares: Number of black squares to add to each image\n",
    "    - square_size_range: Range for the size of the squares\n",
    "    \"\"\"\n",
    "    if not os.path.exists(output_folder):\n",
    "        os.makedirs(output_folder)\n",
    "\n",
    "    # Loop through all subfolders (each representing a class)\n",
    "    for class_folder in os.listdir(input_folder):\n",
    "        class_path = os.path.join(input_folder, class_folder)\n",
    "\n",
    "        # Check if it's a directory (class folder)\n",
    "        if os.path.isdir(class_path):\n",
    "            # Create an output folder for the class if it doesn't exist\n",
    "            class_output_folder = os.path.join(output_folder, class_folder)\n",
    "            if not os.path.exists(class_output_folder):\n",
    "                os.makedirs(class_output_folder)\n",
    "            \n",
    "            # Loop through all images in the class folder\n",
    "            for img_name in os.listdir(class_path):\n",
    "                img_path = os.path.join(class_path, img_name)\n",
    "\n",
    "                # Check if it's an image file\n",
    "                if img_name.lower().endswith(('png', 'jpg', 'jpeg', 'bmp', 'tiff')):\n",
    "                    # Open the image\n",
    "                    image = Image.open(img_path)\n",
    "\n",
    "                    # Apply black squares augmentation\n",
    "                    augmented_image = add_black_squares(image.copy(), num_squares, square_size_range)\n",
    "\n",
    "                    # Save the augmented image to the appropriate class folder in the output folder\n",
    "                    augmented_img_path = os.path.join(class_output_folder, img_name)\n",
    "                    augmented_image.save(augmented_img_path)\n",
    "                    print(f\"Saved augmented image: {augmented_img_path}\")"
   ]
  },
  {
   "cell_type": "code",
   "execution_count": null,
   "metadata": {
    "colab": {
     "base_uri": "https://localhost:8080/"
    },
    "collapsed": true,
    "id": "9LuV2VB9N2th",
    "outputId": "a25c4161-7353-40cd-8ed7-b7af61d237bf"
   },
   "outputs": [],
   "source": [
    "input_folder = '/work/flemingc/nvan21/projects/COMS_573_Project/Data/train'\n",
    "output_folder = '/work/flemingc/nvan21/projects/COMS_573_Project/Data/train_augment'\n",
    "\n",
    "augment_images(input_folder, output_folder)"
   ]
  },
  {
   "cell_type": "code",
   "execution_count": null,
   "metadata": {
    "id": "f_fn3o9wO-VH"
   },
   "outputs": [],
   "source": [
    "folder_paths = [\n",
    "    \"/work/flemingc/nvan21/projects/COMS_573_Project/Data/train\",\n",
    "    \"/work/flemingc/nvan21/projects/COMS_573_Project/Data/train_augment\"\n",
    "]"
   ]
  },
  {
   "cell_type": "code",
   "execution_count": null,
   "metadata": {
    "colab": {
     "base_uri": "https://localhost:8080/",
     "height": 1000
    },
    "id": "uLokz3B0Owaf",
    "outputId": "44a48163-0af0-41c7-f051-9219529c87f3"
   },
   "outputs": [],
   "source": [
    "# Gather all subfolder paths (each folder can contain multiple subfolders for different classes)\n",
    "subfolder_paths = []\n",
    "for folder_path in folder_paths:\n",
    "    subfolder_paths.append([os.path.join(folder_path, subfolder) for subfolder in os.listdir(folder_path) if os.path.isdir(os.path.join(folder_path, subfolder))])\n",
    "\n",
    "# Randomly sample 10 images (this will sample the same 10 images from all subfolders in each folder)\n",
    "# Select a random subfolder from the first folder to get image names\n",
    "image_names = os.listdir(subfolder_paths[0][0])  # Get image names from the first subfolder of the first folder\n",
    "\n",
    "# Randomly sample 10 images\n",
    "sampled_images = random.sample(image_names, 10)\n",
    "\n",
    "# Create a plot to display the images side by side\n",
    "fig, axes = plt.subplots(10, len(folder_paths), figsize=(15, 30))  # 10 rows, number of columns equals the number of folder_paths\n",
    "\n",
    "# Loop through the sampled images and display them from each folder and subfolder\n",
    "for i, img_name in enumerate(sampled_images):\n",
    "    for j, folder_path in enumerate(folder_paths):\n",
    "        ax = axes[i, j]  # Select the subplot for this image/folder combination\n",
    "\n",
    "        # Iterate through each subfolder within the folder\n",
    "        for subfolder_path in subfolder_paths[j]:\n",
    "            img_path = os.path.join(subfolder_path, img_name)\n",
    "            if os.path.exists(img_path):\n",
    "                img = mpimg.imread(img_path)\n",
    "                ax.imshow(img)\n",
    "                ax.axis('off')  # Hide axes for better image viewing\n",
    "                if j == 0:\n",
    "                    ax.set_ylabel(f\"Image {i+1}\")  # Label the first column with image number\n",
    "                if i == 0:\n",
    "                    ax.set_title(f\"Folder {j+1}\")  # Title the top row with folder number\n",
    "\n",
    "# Display the plot\n",
    "plt.tight_layout()\n",
    "plt.show()"
   ]
  }
 ],
 "metadata": {
  "colab": {
   "provenance": []
  },
  "kernelspec": {
   "display_name": "coms_573",
   "language": "python",
   "name": "python3"
  },
  "language_info": {
   "codemirror_mode": {
    "name": "ipython",
    "version": 3
   },
   "file_extension": ".py",
   "mimetype": "text/x-python",
   "name": "python",
   "nbconvert_exporter": "python",
   "pygments_lexer": "ipython3",
   "version": "3.12.7"
  }
 },
 "nbformat": 4,
 "nbformat_minor": 0
}
